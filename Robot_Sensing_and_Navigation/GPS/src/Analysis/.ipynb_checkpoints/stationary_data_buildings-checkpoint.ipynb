{
 "cells": [
  {
   "cell_type": "code",
   "execution_count": 87,
   "id": "edf7b314",
   "metadata": {},
   "outputs": [],
   "source": [
    "import numpy\n",
    "import bagpy\n",
    "from bagpy import bagreader\n",
    "import pandas as pd\n",
    "import seaborn as sea\n",
    "import matplotlib.pyplot as plt\n",
    "import numpy as np\n",
    "import seaborn as sns\n"
   ]
  },
  {
   "cell_type": "code",
   "execution_count": 88,
   "id": "744874c7",
   "metadata": {},
   "outputs": [],
   "source": [
    "#extract csv from bag files\n",
    "def data_csv(b):\n",
    "\n",
    "    csvfiles = []\n",
    "    for t in b.topics:\n",
    "        data = b.message_by_topic(t)\n",
    "        csvfiles.append(data)\n",
    "\n",
    "    print(csvfiles[0])\n",
    "    data = pd.read_csv(csvfiles[0])\n",
    "    return data"
   ]
  },
  {
   "cell_type": "code",
   "execution_count": 89,
   "id": "2c5ea0fe",
   "metadata": {},
   "outputs": [
    {
     "name": "stdout",
     "output_type": "stream",
     "text": [
      "[INFO]  Data folder /home/krishna/EECE5554/LAB1/src/Data/stationary_beside_building already exists. Not creating.\n",
      "/home/krishna/EECE5554/LAB1/src/Data/stationary_beside_building/gps.csv\n"
     ]
    }
   ],
   "source": [
    "b = bagreader(\"/home/krishna/EECE5554/LAB1/src/Data/stationary_beside_building.bag\")\n",
    "csv_data = data_csv(b)"
   ]
  },
  {
   "cell_type": "code",
   "execution_count": 90,
   "id": "74b87399",
   "metadata": {},
   "outputs": [
    {
     "data": {
      "text/html": [
       "<div>\n",
       "<style scoped>\n",
       "    .dataframe tbody tr th:only-of-type {\n",
       "        vertical-align: middle;\n",
       "    }\n",
       "\n",
       "    .dataframe tbody tr th {\n",
       "        vertical-align: top;\n",
       "    }\n",
       "\n",
       "    .dataframe thead th {\n",
       "        text-align: right;\n",
       "    }\n",
       "</style>\n",
       "<table border=\"1\" class=\"dataframe\">\n",
       "  <thead>\n",
       "    <tr style=\"text-align: right;\">\n",
       "      <th></th>\n",
       "      <th>Topics</th>\n",
       "      <th>Types</th>\n",
       "      <th>Message Count</th>\n",
       "      <th>Frequency</th>\n",
       "    </tr>\n",
       "  </thead>\n",
       "  <tbody>\n",
       "    <tr>\n",
       "      <th>0</th>\n",
       "      <td>/gps</td>\n",
       "      <td>gps_driver/gps_msg</td>\n",
       "      <td>239</td>\n",
       "      <td>1.000036</td>\n",
       "    </tr>\n",
       "  </tbody>\n",
       "</table>\n",
       "</div>"
      ],
      "text/plain": [
       "  Topics               Types  Message Count  Frequency\n",
       "0   /gps  gps_driver/gps_msg            239   1.000036"
      ]
     },
     "execution_count": 90,
     "metadata": {},
     "output_type": "execute_result"
    }
   ],
   "source": [
    "b.topic_table"
   ]
  },
  {
   "cell_type": "code",
   "execution_count": 91,
   "id": "1088b058",
   "metadata": {},
   "outputs": [],
   "source": [
    "df_gps = pd.read_csv(\"/home/krishna/EECE5554/LAB1/src/Data/stationary_beside_building/gps.csv\")"
   ]
  },
  {
   "cell_type": "code",
   "execution_count": 92,
   "id": "0bb791b0",
   "metadata": {},
   "outputs": [
    {
     "data": {
      "text/html": [
       "<div>\n",
       "<style scoped>\n",
       "    .dataframe tbody tr th:only-of-type {\n",
       "        vertical-align: middle;\n",
       "    }\n",
       "\n",
       "    .dataframe tbody tr th {\n",
       "        vertical-align: top;\n",
       "    }\n",
       "\n",
       "    .dataframe thead th {\n",
       "        text-align: right;\n",
       "    }\n",
       "</style>\n",
       "<table border=\"1\" class=\"dataframe\">\n",
       "  <thead>\n",
       "    <tr style=\"text-align: right;\">\n",
       "      <th></th>\n",
       "      <th>Time</th>\n",
       "      <th>Header.seq</th>\n",
       "      <th>Header.stamp.secs</th>\n",
       "      <th>Header.stamp.nsecs</th>\n",
       "      <th>Header.frame_id</th>\n",
       "      <th>Latitude</th>\n",
       "      <th>Longitude</th>\n",
       "      <th>Altitude</th>\n",
       "      <th>UTM_easting</th>\n",
       "      <th>UTM_northing</th>\n",
       "      <th>Zone</th>\n",
       "      <th>Letter</th>\n",
       "    </tr>\n",
       "  </thead>\n",
       "  <tbody>\n",
       "    <tr>\n",
       "      <th>0</th>\n",
       "      <td>1.675892e+09</td>\n",
       "      <td>0</td>\n",
       "      <td>77272</td>\n",
       "      <td>0</td>\n",
       "      <td>GPS1_Frame</td>\n",
       "      <td>42.337862</td>\n",
       "      <td>71.089968</td>\n",
       "      <td>21.8</td>\n",
       "      <td>672171.204840</td>\n",
       "      <td>4.689405e+06</td>\n",
       "      <td>42.0</td>\n",
       "      <td>T</td>\n",
       "    </tr>\n",
       "    <tr>\n",
       "      <th>1</th>\n",
       "      <td>1.675892e+09</td>\n",
       "      <td>0</td>\n",
       "      <td>77273</td>\n",
       "      <td>0</td>\n",
       "      <td>GPS1_Frame</td>\n",
       "      <td>42.337862</td>\n",
       "      <td>71.089968</td>\n",
       "      <td>21.8</td>\n",
       "      <td>672171.204840</td>\n",
       "      <td>4.689405e+06</td>\n",
       "      <td>42.0</td>\n",
       "      <td>T</td>\n",
       "    </tr>\n",
       "    <tr>\n",
       "      <th>2</th>\n",
       "      <td>1.675892e+09</td>\n",
       "      <td>0</td>\n",
       "      <td>77274</td>\n",
       "      <td>0</td>\n",
       "      <td>GPS1_Frame</td>\n",
       "      <td>42.337862</td>\n",
       "      <td>71.089968</td>\n",
       "      <td>21.8</td>\n",
       "      <td>672171.204840</td>\n",
       "      <td>4.689405e+06</td>\n",
       "      <td>42.0</td>\n",
       "      <td>T</td>\n",
       "    </tr>\n",
       "    <tr>\n",
       "      <th>3</th>\n",
       "      <td>1.675892e+09</td>\n",
       "      <td>0</td>\n",
       "      <td>77275</td>\n",
       "      <td>0</td>\n",
       "      <td>GPS1_Frame</td>\n",
       "      <td>42.337862</td>\n",
       "      <td>71.089968</td>\n",
       "      <td>21.8</td>\n",
       "      <td>672171.204840</td>\n",
       "      <td>4.689405e+06</td>\n",
       "      <td>42.0</td>\n",
       "      <td>T</td>\n",
       "    </tr>\n",
       "    <tr>\n",
       "      <th>4</th>\n",
       "      <td>1.675892e+09</td>\n",
       "      <td>0</td>\n",
       "      <td>77276</td>\n",
       "      <td>0</td>\n",
       "      <td>GPS1_Frame</td>\n",
       "      <td>42.337867</td>\n",
       "      <td>71.089968</td>\n",
       "      <td>22.1</td>\n",
       "      <td>672171.191194</td>\n",
       "      <td>4.689406e+06</td>\n",
       "      <td>42.0</td>\n",
       "      <td>T</td>\n",
       "    </tr>\n",
       "    <tr>\n",
       "      <th>...</th>\n",
       "      <td>...</td>\n",
       "      <td>...</td>\n",
       "      <td>...</td>\n",
       "      <td>...</td>\n",
       "      <td>...</td>\n",
       "      <td>...</td>\n",
       "      <td>...</td>\n",
       "      <td>...</td>\n",
       "      <td>...</td>\n",
       "      <td>...</td>\n",
       "      <td>...</td>\n",
       "      <td>...</td>\n",
       "    </tr>\n",
       "    <tr>\n",
       "      <th>234</th>\n",
       "      <td>1.675892e+09</td>\n",
       "      <td>0</td>\n",
       "      <td>77505</td>\n",
       "      <td>0</td>\n",
       "      <td>GPS1_Frame</td>\n",
       "      <td>42.337868</td>\n",
       "      <td>71.089960</td>\n",
       "      <td>19.2</td>\n",
       "      <td>672170.500118</td>\n",
       "      <td>4.689406e+06</td>\n",
       "      <td>42.0</td>\n",
       "      <td>T</td>\n",
       "    </tr>\n",
       "    <tr>\n",
       "      <th>235</th>\n",
       "      <td>1.675892e+09</td>\n",
       "      <td>0</td>\n",
       "      <td>77506</td>\n",
       "      <td>0</td>\n",
       "      <td>GPS1_Frame</td>\n",
       "      <td>42.337868</td>\n",
       "      <td>71.089960</td>\n",
       "      <td>19.2</td>\n",
       "      <td>672170.500118</td>\n",
       "      <td>4.689406e+06</td>\n",
       "      <td>42.0</td>\n",
       "      <td>T</td>\n",
       "    </tr>\n",
       "    <tr>\n",
       "      <th>236</th>\n",
       "      <td>1.675892e+09</td>\n",
       "      <td>0</td>\n",
       "      <td>77508</td>\n",
       "      <td>0</td>\n",
       "      <td>GPS1_Frame</td>\n",
       "      <td>42.337868</td>\n",
       "      <td>71.089960</td>\n",
       "      <td>19.2</td>\n",
       "      <td>672170.500118</td>\n",
       "      <td>4.689406e+06</td>\n",
       "      <td>42.0</td>\n",
       "      <td>T</td>\n",
       "    </tr>\n",
       "    <tr>\n",
       "      <th>237</th>\n",
       "      <td>1.675892e+09</td>\n",
       "      <td>0</td>\n",
       "      <td>77509</td>\n",
       "      <td>0</td>\n",
       "      <td>GPS1_Frame</td>\n",
       "      <td>42.337868</td>\n",
       "      <td>71.089958</td>\n",
       "      <td>19.2</td>\n",
       "      <td>672170.362813</td>\n",
       "      <td>4.689406e+06</td>\n",
       "      <td>42.0</td>\n",
       "      <td>T</td>\n",
       "    </tr>\n",
       "    <tr>\n",
       "      <th>238</th>\n",
       "      <td>1.675892e+09</td>\n",
       "      <td>0</td>\n",
       "      <td>77510</td>\n",
       "      <td>0</td>\n",
       "      <td>GPS1_Frame</td>\n",
       "      <td>42.337868</td>\n",
       "      <td>71.089958</td>\n",
       "      <td>19.2</td>\n",
       "      <td>672170.362813</td>\n",
       "      <td>4.689406e+06</td>\n",
       "      <td>42.0</td>\n",
       "      <td>T</td>\n",
       "    </tr>\n",
       "  </tbody>\n",
       "</table>\n",
       "<p>239 rows × 12 columns</p>\n",
       "</div>"
      ],
      "text/plain": [
       "             Time  Header.seq  Header.stamp.secs  Header.stamp.nsecs  \\\n",
       "0    1.675892e+09           0              77272                   0   \n",
       "1    1.675892e+09           0              77273                   0   \n",
       "2    1.675892e+09           0              77274                   0   \n",
       "3    1.675892e+09           0              77275                   0   \n",
       "4    1.675892e+09           0              77276                   0   \n",
       "..            ...         ...                ...                 ...   \n",
       "234  1.675892e+09           0              77505                   0   \n",
       "235  1.675892e+09           0              77506                   0   \n",
       "236  1.675892e+09           0              77508                   0   \n",
       "237  1.675892e+09           0              77509                   0   \n",
       "238  1.675892e+09           0              77510                   0   \n",
       "\n",
       "    Header.frame_id   Latitude  Longitude  Altitude    UTM_easting  \\\n",
       "0        GPS1_Frame  42.337862  71.089968      21.8  672171.204840   \n",
       "1        GPS1_Frame  42.337862  71.089968      21.8  672171.204840   \n",
       "2        GPS1_Frame  42.337862  71.089968      21.8  672171.204840   \n",
       "3        GPS1_Frame  42.337862  71.089968      21.8  672171.204840   \n",
       "4        GPS1_Frame  42.337867  71.089968      22.1  672171.191194   \n",
       "..              ...        ...        ...       ...            ...   \n",
       "234      GPS1_Frame  42.337868  71.089960      19.2  672170.500118   \n",
       "235      GPS1_Frame  42.337868  71.089960      19.2  672170.500118   \n",
       "236      GPS1_Frame  42.337868  71.089960      19.2  672170.500118   \n",
       "237      GPS1_Frame  42.337868  71.089958      19.2  672170.362813   \n",
       "238      GPS1_Frame  42.337868  71.089958      19.2  672170.362813   \n",
       "\n",
       "     UTM_northing  Zone Letter  \n",
       "0    4.689405e+06  42.0      T  \n",
       "1    4.689405e+06  42.0      T  \n",
       "2    4.689405e+06  42.0      T  \n",
       "3    4.689405e+06  42.0      T  \n",
       "4    4.689406e+06  42.0      T  \n",
       "..            ...   ...    ...  \n",
       "234  4.689406e+06  42.0      T  \n",
       "235  4.689406e+06  42.0      T  \n",
       "236  4.689406e+06  42.0      T  \n",
       "237  4.689406e+06  42.0      T  \n",
       "238  4.689406e+06  42.0      T  \n",
       "\n",
       "[239 rows x 12 columns]"
      ]
     },
     "execution_count": 92,
     "metadata": {},
     "output_type": "execute_result"
    }
   ],
   "source": [
    "df_gps"
   ]
  },
  {
   "cell_type": "code",
   "execution_count": 93,
   "id": "159434fa",
   "metadata": {},
   "outputs": [],
   "source": [
    "#mean data - standardizing the data by subtracting the mean\n",
    "\n",
    "df_gps['UTM_easting_mean'] = df_gps['UTM_easting'] - df_gps['UTM_easting'].mean(axis=0)\n",
    "df_gps['UTM_northing_mean'] = df_gps['UTM_northing'] - df_gps['UTM_northing'].mean(axis=0)"
   ]
  },
  {
   "cell_type": "code",
   "execution_count": 94,
   "id": "8d10d3ec",
   "metadata": {},
   "outputs": [
    {
     "data": {
      "text/plain": [
       "(672170.8020213473, 4689405.455435184)"
      ]
     },
     "execution_count": 94,
     "metadata": {},
     "output_type": "execute_result"
    }
   ],
   "source": [
    "df_gps['UTM_easting'].median(axis=0), df_gps['UTM_northing'].median(axis=0)"
   ]
  },
  {
   "cell_type": "code",
   "execution_count": 95,
   "id": "a19056a6",
   "metadata": {},
   "outputs": [
    {
     "data": {
      "text/plain": [
       "(0      0.207783\n",
       " 1      0.207783\n",
       " 2      0.207783\n",
       " 3      0.207783\n",
       " 4      0.194137\n",
       "          ...   \n",
       " 234   -0.496939\n",
       " 235   -0.496939\n",
       " 236   -0.496939\n",
       " 237   -0.634245\n",
       " 238   -0.634245\n",
       " Name: UTM_easting_mean, Length: 239, dtype: float64,\n",
       " 0     -0.338139\n",
       " 1     -0.338139\n",
       " 2     -0.338139\n",
       " 3     -0.338139\n",
       " 4      0.217073\n",
       "          ...   \n",
       " 234    0.385270\n",
       " 235    0.385270\n",
       " 236    0.385270\n",
       " 237    0.381895\n",
       " 238    0.381895\n",
       " Name: UTM_northing_mean, Length: 239, dtype: float64)"
      ]
     },
     "execution_count": 95,
     "metadata": {},
     "output_type": "execute_result"
    }
   ],
   "source": [
    "df_gps['UTM_easting_mean'], df_gps['UTM_northing_mean'] "
   ]
  },
  {
   "cell_type": "code",
   "execution_count": 96,
   "id": "45f9bb8f",
   "metadata": {},
   "outputs": [
    {
     "data": {
      "text/plain": [
       "0.47304736771321054"
      ]
     },
     "execution_count": 96,
     "metadata": {},
     "output_type": "execute_result"
    }
   ],
   "source": [
    "#CEP - circular probable error\n",
    "cep_radius = 0.56*(df_gps['UTM_easting_mean'].std() + 0.62*df_gps['UTM_northing_mean'].std())\n",
    "cep_radius"
   ]
  },
  {
   "cell_type": "code",
   "execution_count": 97,
   "id": "c44cf223",
   "metadata": {},
   "outputs": [
    {
     "data": {
      "text/plain": [
       "1.5243796098547087"
      ]
     },
     "execution_count": 97,
     "metadata": {},
     "output_type": "execute_result"
    }
   ],
   "source": [
    "#2DRMS\n",
    "drms_2 = 2* np.sqrt(df_gps['UTM_easting_mean'].var() + df_gps['UTM_northing_mean'].var())\n",
    "drms_2"
   ]
  },
  {
   "cell_type": "code",
   "execution_count": 98,
   "id": "d5ae888e",
   "metadata": {},
   "outputs": [
    {
     "data": {
      "image/png": "[encoded data removed]",
      "text/plain": [
       "<Figure size 1200x600 with 1 Axes>"
      ]
     },
     "metadata": {},
     "output_type": "display_data"
    }
   ],
   "source": [
    "#corrected - the median of the each data in easting and northing was subtracted \n",
    "#from the  easting and northing datapoints respectively. \n",
    "fig, ax = bagpy.create_fig(1)\n",
    "ax[0].grid(True)\n",
    "ax[0].axis('equal')\n",
    "ax[0].scatter(x='UTM_easting_mean', y='UTM_northing_mean', data=df_gps)\n",
    "plt.title(\"Occluded scatter plot\")\n",
    "plt.xlabel(\"UTM_easting_corrected\")\n",
    "plt.ylabel(\"UTM_northing_corrected\")\n",
    "cir_CEP = plt.Circle((0,0),cep_radius,color='forestgreen',alpha=0.4)\n",
    "cir_drms = plt.Circle((0,0),drms_2,color='yellow',alpha=0.4)\n",
    "ax[0].add_artist(cir_CEP)\n",
    "ax[0].add_artist(cir_drms)\n",
    "plt.savefig('/home/krishna/northing.png')\n",
    "plt.show()"
   ]
  },
  {
   "cell_type": "code",
   "execution_count": 99,
   "id": "6ced32ec",
   "metadata": {},
   "outputs": [],
   "source": [
    "from scipy.stats import norm\n",
    "import math\n",
    "from statistics import mean,median "
   ]
  },
  {
   "cell_type": "code",
   "execution_count": null,
   "id": "a1b6bbab",
   "metadata": {},
   "outputs": [],
   "source": [
    "def distance(lat1, lon1, lat2, lon2):\n",
    "    # convert decimal degrees to radians \n",
    "    lat1, lon1, lat2, lon2 = map(math.radians, [lat1, lon1, lat2, lon2])\n",
    "\n",
    "    # haversine formula \n",
    "    dlat = lat2 - lat1 \n",
    "    dlon = lon2 - lon1 \n",
    "    a = math.sin(dlat/2)**2 + math.cos(lat1) * math.cos(lat2) * math.sin(dlon/2)**2\n",
    "    c = 2 * math.asin(math.sqrt(a)) \n",
    "    r = 6371 # Radius of earth in kilometers.\n",
    "    return c * r\n",
    "\n",
    "\n",
    "# Load the data from a LibreOffice spreadsheet into a pandas DataFrame\n",
    "df = pd.read_csv(\"/home/krishna/EECE5554/LAB1/src/Data/stationary_beside_building/gps.csv\")\n",
    "\n",
    "# Subtract the first value from each column to scale the data with your stationary data sets\n",
    "easting = df['UTM_easting'] = df['UTM_easting'] - df['UTM_easting'][0]\n",
    "northing = df['UTM_northing'] = df['UTM_northing'] - df['UTM_northing'][0]\n",
    "altitude = df['Altitude']\n",
    "time = df['Time']\n",
    "latitude = df['Latitude']\n",
    "longitude = df['Longitude']\n",
    "\n",
    "\n",
    "# Error calculations\n",
    "k_lat = 42.3378616666667\n",
    "k_lon = -71.0899683333333\n",
    "error = []\n",
    "for i in range(0,239):\n",
    "    error.append(distance(latitude[i], longitude[i], k_lat, k_lon))\n",
    "\n",
    "a = mean(error)\n",
    "print(a)\n",
    "\n",
    "b = median(error)\n",
    "print(b)\n",
    "\n",
    "# Error histogram plot\n",
    "plt.hist(error, bins=20)\n",
    "plt.xlabel('Error in kms')\n",
    "plt.ylabel('Frequency')\n",
    "plt.title('Occluded histogram error')\n",
    "plt.show()\n",
    "\n",
    "\n"
   ]
  },
  {
   "cell_type": "code",
   "execution_count": null,
   "id": "1fc68f61",
   "metadata": {},
   "outputs": [],
   "source": [
    "#percentage of points near the median\n",
    "#considering that the median here (0,0)\n",
    "df_gps['dist_euclidean'] = np.sqrt( (df_gps['UTM_easting_mean'])**2 + (df_gps['UTM_northing_mean'])**2)\n",
    "\n",
    "df_gps['dist_euclidean'] "
   ]
  },
  {
   "cell_type": "code",
   "execution_count": null,
   "id": "5cc75dcf",
   "metadata": {},
   "outputs": [],
   "source": [
    "df_gps['dist_euclidean'].mean(), df_gps['dist_euclidean'].min(), df_gps['dist_euclidean'].max()"
   ]
  },
  {
   "cell_type": "code",
   "execution_count": null,
   "id": "c85f12d6",
   "metadata": {},
   "outputs": [],
   "source": [
    "#  Distance Root Mean Squared (DRMS) - \n",
    "#DRMS is the square root of the average of the square errors \n",
    "df_gps['square_error'] = (df_gps['UTM_easting_mean'])**2 + (df_gps['UTM_northing_mean'])**2\n",
    "drms = np.sqrt(df_gps['square_error'].mean())"
   ]
  },
  {
   "cell_type": "code",
   "execution_count": null,
   "id": "2080ff0c",
   "metadata": {},
   "outputs": [],
   "source": [
    "#median data\n",
    "\n",
    "df_gps['easting_median'] = df_gps['UTM_easting'] - df_gps['UTM_easting'].median(axis=0)\n",
    "df_gps['northing_median'] = df_gps['UTM_northing'] - df_gps['UTM_northing'].median(axis=0)"
   ]
  },
  {
   "cell_type": "code",
   "execution_count": null,
   "id": "d7d7eabd",
   "metadata": {},
   "outputs": [],
   "source": [
    "df_gps['easting_median']\n"
   ]
  },
  {
   "cell_type": "code",
   "execution_count": null,
   "id": "e64e5e29",
   "metadata": {},
   "outputs": [],
   "source": [
    "df_gps['UTM_easting'].median(axis=0), df_gps['UTM_northing'].median(axis=0)"
   ]
  },
  {
   "cell_type": "code",
   "execution_count": null,
   "id": "36c60265",
   "metadata": {},
   "outputs": [],
   "source": [
    "fig, ax = bagpy.create_fig(1)\n",
    "ax[0].scatter(x='Header.stamp.secs', y='Altitude', data=df_gps)\n",
    "plt.xlabel(\"Time in seconds\")\n",
    "\n",
    "plt.ylabel(\"Altitude in meter\")\n",
    "plt.title(\"Altitude VS Time\")\n",
    "plt.show()"
   ]
  },
  {
   "cell_type": "code",
   "execution_count": null,
   "id": "09db37fd",
   "metadata": {},
   "outputs": [],
   "source": [
    "#mean, variance\n",
    "\n",
    "[ df_gps['Altitude'].mean(), df_gps['Altitude'].var() ]"
   ]
  },
  {
   "cell_type": "code",
   "execution_count": null,
   "id": "2172bc09",
   "metadata": {},
   "outputs": [],
   "source": []
  }
 ],
 "metadata": {
  "kernelspec": {
   "display_name": "Python 3 (ipykernel)",
   "language": "python",
   "name": "python3"
  },
  "language_info": {
   "codemirror_mode": {
    "name": "ipython",
    "version": 3
   },
   "file_extension": ".py",
   "mimetype": "text/x-python",
   "name": "python",
   "nbconvert_exporter": "python",
   "pygments_lexer": "ipython3",
   "version": "3.10.9"
  },
  "vscode": {
   "interpreter": {
    "hash": "916dbcbb3f70747c44a77c7bcd40155683ae19c65e1c03b4aa3499c5328201f1"
   }
  }
 },
 "nbformat": 4,
 "nbformat_minor": 5
}
